{
 "cells": [
  {
   "cell_type": "markdown",
   "id": "a49c360a",
   "metadata": {},
   "source": [
    "# Software Business Model Study - Pipeline Analysis\n",
    "\n",
    "This notebook analyzes the data collected by the auto-research pipeline to identify new business models in SMB software companies."
   ]
  },
  {
   "cell_type": "markdown",
   "id": "c4f70130",
   "metadata": {},
   "source": [
    "## 1. Import Libraries"
   ]
  },
  {
   "cell_type": "code",
   "execution_count": null,
   "id": "86a0bc4e",
   "metadata": {},
   "outputs": [],
   "source": [
    "import pandas as pd\n",
    "import matplotlib.pyplot as plt\n",
    "import seaborn as sns\n",
    "from collections import Counter\n",
    "import os\n",
    "import sys\n",
    "\n",
    "# Add pipeline directory to path\n",
    "sys.path.append('../pipeline')\n",
    "from merge_evidence import merge_evidence_csvs\n",
    "\n",
    "plt.style.use('default')\n",
    "plt.rcParams['figure.figsize'] = (10, 6)"
   ]
  },
  {
   "cell_type": "markdown",
   "id": "6581cee1",
   "metadata": {},
   "source": [
    "## 2. Merge and Load Data"
   ]
  },
  {
   "cell_type": "code",
   "execution_count": null,
   "id": "99e6eef7",
   "metadata": {},
   "outputs": [],
   "source": [
    "# First, merge all individual company CSV files\n",
    "df = merge_evidence_csvs()\n",
    "\n",
    "if df is not None:\n",
    "    print(f\"\\nDataset loaded successfully!\")\n",
    "    print(f\"Shape: {df.shape}\")\n",
    "    print(f\"Columns: {list(df.columns)}\")\n",
    "else:\n",
    "    print(\"No data found. Make sure you've run the pipeline first.\")"
   ]
  },
  {
   "cell_type": "markdown",
   "id": "145f912e",
   "metadata": {},
   "source": [
    "## 3. Basic Data Overview"
   ]
  },
  {
   "cell_type": "code",
   "execution_count": null,
   "id": "0ced19af",
   "metadata": {},
   "outputs": [],
   "source": [
    "if df is not None:\n",
    "    # Basic statistics\n",
    "    print(\"=== BASIC STATISTICS ===\")\n",
    "    print(f\"Total companies: {df['Company'].nunique()}\")\n",
    "    print(f\"Total search attempts: {len(df)}\")\n",
    "    print(f\"Evidence found: {len(df[df['EvidenceQuote'].str.strip() != ''])}\")\n",
    "    print(f\"Success rate: {len(df[df['EvidenceQuote'].str.strip() != '']) / len(df):.1%}\")\n",
    "    \n",
    "    print(\"\\n=== COMPANIES ANALYZED ===\")\n",
    "    print(df['Company'].value_counts())"
   ]
  },
  {
   "cell_type": "markdown",
   "id": "d1738a3d",
   "metadata": {},
   "source": [
    "## 4. Evidence Quality Analysis"
   ]
  },
  {
   "cell_type": "code",
   "execution_count": null,
   "id": "a05d6854",
   "metadata": {},
   "outputs": [],
   "source": [
    "if df is not None:\n",
    "    # Add evidence quality columns\n",
    "    df['has_evidence'] = df['EvidenceQuote'].str.strip() != ''\n",
    "    df['evidence_length'] = df['EvidenceQuote'].str.len()\n",
    "    \n",
    "    # Company-level success rates\n",
    "    company_stats = df.groupby('Company').agg({\n",
    "        'has_evidence': ['sum', 'count', 'mean'],\n",
    "        'evidence_length': 'sum'\n",
    "    }).round(2)\n",
    "    \n",
    "    company_stats.columns = ['Evidence_Found', 'Total_Searches', 'Success_Rate', 'Total_Text']\n",
    "    company_stats = company_stats.sort_values('Evidence_Found', ascending=False)\n",
    "    \n",
    "    print(\"=== COMPANY PERFORMANCE ===\")\n",
    "    print(company_stats)"
   ]
  },
  {
   "cell_type": "markdown",
   "id": "4a5cb50a",
   "metadata": {},
   "source": [
    "## 5. Simple Visualizations"
   ]
  },
  {
   "cell_type": "code",
   "execution_count": null,
   "id": "03e04edc",
   "metadata": {},
   "outputs": [],
   "source": [
    "if df is not None:\n",
    "    # Create simple charts\n",
    "    fig, axes = plt.subplots(2, 2, figsize=(15, 10))\n",
    "    \n",
    "    # 1. Evidence found by company\n",
    "    company_stats['Evidence_Found'].plot(kind='bar', ax=axes[0,0])\n",
    "    axes[0,0].set_title('Evidence Found by Company')\n",
    "    axes[0,0].set_ylabel('Number of Evidence Quotes')\n",
    "    \n",
    "    # 2. Success rate by company\n",
    "    company_stats['Success_Rate'].plot(kind='bar', ax=axes[0,1], color='orange')\n",
    "    axes[0,1].set_title('Success Rate by Company')\n",
    "    axes[0,1].set_ylabel('Success Rate')\n",
    "    \n",
    "    # 3. Keyword effectiveness\n",
    "    keyword_stats = df.groupby('SearchKeyword')['has_evidence'].mean().sort_values(ascending=False).head(10)\n",
    "    keyword_stats.plot(kind='barh', ax=axes[1,0], color='green')\n",
    "    axes[1,0].set_title('Top 10 Most Effective Keywords')\n",
    "    axes[1,0].set_xlabel('Success Rate')\n",
    "    \n",
    "    # 4. Evidence text length distribution\n",
    "    evidence_data = df[df['has_evidence']]['evidence_length']\n",
    "    axes[1,1].hist(evidence_data, bins=20, alpha=0.7, color='purple')\n",
    "    axes[1,1].set_title('Evidence Text Length Distribution')\n",
    "    axes[1,1].set_xlabel('Characters')\n",
    "    axes[1,1].set_ylabel('Frequency')\n",
    "    \n",
    "    plt.tight_layout()\n",
    "    plt.show()"
   ]
  },
  {
   "cell_type": "markdown",
   "id": "5abde5ed",
   "metadata": {},
   "source": [
    "## 6. Business Model Detection"
   ]
  },
  {
   "cell_type": "code",
   "execution_count": null,
   "id": "d30c4c55",
   "metadata": {},
   "outputs": [],
   "source": [
    "if df is not None:\n",
    "    # Simple business model keywords\n",
    "    business_models = {\n",
    "        'SaaS': ['saas', 'subscription', 'monthly', 'cloud'],\n",
    "        'Platform': ['platform', 'marketplace', 'api'],\n",
    "        'Consulting': ['consulting', 'custom', 'implementation'],\n",
    "        'Open Source': ['open source', 'github', 'community'],\n",
    "        'AI/ML': ['ai', 'machine learning', 'artificial intelligence']\n",
    "    }\n",
    "    \n",
    "    # Count mentions of each business model\n",
    "    model_counts = {}\n",
    "    evidence_text = ' '.join(df[df['has_evidence']]['EvidenceQuote'].str.lower())\n",
    "    \n",
    "    for model, keywords in business_models.items():\n",
    "        count = sum(evidence_text.count(keyword) for keyword in keywords)\n",
    "        model_counts[model] = count\n",
    "    \n",
    "    print(\"=== BUSINESS MODEL MENTIONS ===\")\n",
    "    for model, count in sorted(model_counts.items(), key=lambda x: x[1], reverse=True):\n",
    "        print(f\"{model}: {count} mentions\")\n",
    "    \n",
    "    # Simple bar chart\n",
    "    plt.figure(figsize=(10, 6))\n",
    "    models = list(model_counts.keys())\n",
    "    counts = list(model_counts.values())\n",
    "    plt.bar(models, counts, color=['skyblue', 'lightgreen', 'salmon', 'gold', 'plum'])\n",
    "    plt.title('Business Model Keyword Mentions in Evidence')\n",
    "    plt.ylabel('Number of Mentions')\n",
    "    plt.xticks(rotation=45)\n",
    "    plt.tight_layout()\n",
    "    plt.show()"
   ]
  },
  {
   "cell_type": "markdown",
   "id": "e5843b82",
   "metadata": {},
   "source": [
    "## 7. Sample Evidence Review"
   ]
  },
  {
   "cell_type": "code",
   "execution_count": null,
   "id": "f4e6f436",
   "metadata": {},
   "outputs": [],
   "source": [
    "if df is not None:\n",
    "    # Show some example evidence quotes\n",
    "    evidence_df = df[df['has_evidence']].copy()\n",
    "    \n",
    "    if len(evidence_df) > 0:\n",
    "        print(\"=== SAMPLE EVIDENCE QUOTES ===\")\n",
    "        for i, row in evidence_df.head(5).iterrows():\n",
    "            print(f\"\\nCompany: {row['Company']}\")\n",
    "            print(f\"Keyword: {row['SearchKeyword']}\")\n",
    "            print(f\"Evidence: {row['EvidenceQuote'][:200]}...\")\n",
    "            print(\"-\" * 80)\n",
    "    else:\n",
    "        print(\"No evidence quotes found.\")"
   ]
  },
  {
   "cell_type": "markdown",
   "id": "33485fe3",
   "metadata": {},
   "source": [
    "## 8. Export Summary Results"
   ]
  },
  {
   "cell_type": "code",
   "execution_count": null,
   "id": "755b565a",
   "metadata": {},
   "outputs": [],
   "source": [
    "if df is not None:\n",
    "    # Save summary to CSV\n",
    "    summary_file = '../out/analysis_summary.csv'\n",
    "    company_stats.to_csv(summary_file)\n",
    "    \n",
    "    # Save business model analysis\n",
    "    model_df = pd.DataFrame(list(model_counts.items()), columns=['Business_Model', 'Mentions'])\n",
    "    model_df.to_csv('../out/business_model_analysis.csv', index=False)\n",
    "    \n",
    "    print(f\"Results saved to:\")\n",
    "    print(f\"- {summary_file}\")\n",
    "    print(f\"- ../out/business_model_analysis.csv\")\n",
    "    \n",
    "    print(\"\\n=== ANALYSIS COMPLETE ===\")\n",
    "    print(f\"Check the '../out/' directory for detailed results!\")"
   ]
  }
 ],
 "metadata": {
  "language_info": {
   "name": "python"
  }
 },
 "nbformat": 4,
 "nbformat_minor": 5
}
