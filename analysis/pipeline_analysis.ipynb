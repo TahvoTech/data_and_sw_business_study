{
 "cells": [
  {
   "cell_type": "markdown",
   "id": "3939d175",
   "metadata": {},
   "source": [
    "# Recommendations: Improving Evidence Collection Quality\n",
    "\n",
    "Based on the current analysis, here are actionable strategies to get better, more targeted evidence snippets:\n",
    "\n",
    "## 🎯 Key Issues Identified:\n",
    "- Current evidence may be too general or fragmented\n",
    "- Need more specific business model indicators\n",
    "- Better targeting of relevant content sections"
   ]
  },
  {
   "cell_type": "code",
   "execution_count": 22,
   "id": "fd3a79a1",
   "metadata": {},
   "outputs": [
    {
     "name": "stdout",
     "output_type": "stream",
     "text": [
      "🎯 STRATEGIES TO IMPROVE EVIDENCE QUALITY:\n",
      "\n",
      "1. USE MORE SPECIFIC SEARCH QUERIES\n",
      "\n",
      "Revenue Models:\n",
      "  • site:company.com \"revenue model\"\n",
      "  • site:company.com \"pricing strategy\"\n",
      "  • site:company.com \"monetization\"\n",
      "  • site:company.com \"business model canvas\"\n",
      "\n",
      "Service Delivery:\n",
      "  • site:company.com \"service delivery model\"\n",
      "  • site:company.com \"customer onboarding\"\n",
      "  • site:company.com \"implementation process\"\n",
      "\n",
      "Value Proposition:\n",
      "  • site:company.com \"value proposition\"\n",
      "  • site:company.com \"unique selling\"\n",
      "  • site:company.com \"competitive advantage\"\n",
      "\n",
      "Partnership Strategy:\n",
      "  • site:company.com \"partnerships\"\n",
      "  • site:company.com \"ecosystem\"\n",
      "  • site:company.com \"integrations\"\n",
      "\n",
      "2. TARGET SPECIFIC PAGE TYPES:\n",
      "  • /about\n",
      "  • /services\n",
      "  • /products\n",
      "  • /solutions\n",
      "  • /pricing\n",
      "  • /customers\n",
      "  • /case-studies\n",
      "  • /blog\n",
      "\n",
      "3. ENHANCED KEYWORD DETECTION:\n",
      "\n",
      "SaaS: 8 keywords\n",
      "  Sample: software as a service, saas, subscription\n",
      "\n",
      "Platform: 8 keywords\n",
      "  Sample: platform business, two-sided market, marketplace\n",
      "\n",
      "Consulting: 6 keywords\n",
      "  Sample: custom development, bespoke solutions, professional services\n",
      "\n",
      "Product: 5 keywords\n",
      "  Sample: license, perpetual license, one-time purchase\n",
      "\n",
      "Freemium: 5 keywords\n",
      "  Sample: freemium, free tier, upgrade path\n"
     ]
    }
   ],
   "source": [
    "# IMPROVEMENT STRATEGIES FOR BETTER EVIDENCE SNIPPETS\n",
    "\n",
    "# 1. Enhanced Search Queries - More specific business model terms\n",
    "improved_search_queries = {\n",
    "    'Revenue Models': [\n",
    "        'site:company.com \"revenue model\"',\n",
    "        'site:company.com \"pricing strategy\"', \n",
    "        'site:company.com \"monetization\"',\n",
    "        'site:company.com \"business model canvas\"'\n",
    "    ],\n",
    "    'Service Delivery': [\n",
    "        'site:company.com \"service delivery model\"',\n",
    "        'site:company.com \"customer onboarding\"',\n",
    "        'site:company.com \"implementation process\"'\n",
    "    ],\n",
    "    'Value Proposition': [\n",
    "        'site:company.com \"value proposition\"',\n",
    "        'site:company.com \"unique selling\"',\n",
    "        'site:company.com \"competitive advantage\"'\n",
    "    ],\n",
    "    'Partnership Strategy': [\n",
    "        'site:company.com \"partnerships\"',\n",
    "        'site:company.com \"ecosystem\"',\n",
    "        'site:company.com \"integrations\"'\n",
    "    ]\n",
    "}\n",
    "\n",
    "# 2. Better Content Filtering - Target specific page types\n",
    "target_page_types = [\n",
    "    '/about', '/services', '/products', '/solutions',\n",
    "    '/pricing', '/customers', '/case-studies', '/blog'\n",
    "]\n",
    "\n",
    "# 3. Improved Keyword Detection for Business Models\n",
    "enhanced_business_model_keywords = {\n",
    "    'SaaS': [\n",
    "        'software as a service', 'saas', 'subscription',\n",
    "        'monthly recurring revenue', 'mrr', 'cloud-based',\n",
    "        'multi-tenant', 'pay-per-user'\n",
    "    ],\n",
    "    'Platform': [\n",
    "        'platform business', 'two-sided market', 'marketplace',\n",
    "        'ecosystem', 'api', 'third-party developers',\n",
    "        'network effects', 'platform strategy'\n",
    "    ],\n",
    "    'Consulting': [\n",
    "        'custom development', 'bespoke solutions',\n",
    "        'professional services', 'consulting',\n",
    "        'project-based', 'time and materials'\n",
    "    ],\n",
    "    'Product': [\n",
    "        'license', 'perpetual license', 'one-time purchase',\n",
    "        'product sales', 'software license'\n",
    "    ],\n",
    "    'Freemium': [\n",
    "        'freemium', 'free tier', 'upgrade path',\n",
    "        'premium features', 'free trial'\n",
    "    ]\n",
    "}\n",
    "\n",
    "print(\"🎯 STRATEGIES TO IMPROVE EVIDENCE QUALITY:\")\n",
    "print(\"\\n1. USE MORE SPECIFIC SEARCH QUERIES\")\n",
    "for category, queries in improved_search_queries.items():\n",
    "    print(f\"\\n{category}:\")\n",
    "    for query in queries:\n",
    "        print(f\"  • {query}\")\n",
    "\n",
    "print(f\"\\n2. TARGET SPECIFIC PAGE TYPES:\")\n",
    "for page_type in target_page_types:\n",
    "    print(f\"  • {page_type}\")\n",
    "    \n",
    "print(f\"\\n3. ENHANCED KEYWORD DETECTION:\")\n",
    "for model, keywords in enhanced_business_model_keywords.items():\n",
    "    print(f\"\\n{model}: {len(keywords)} keywords\")\n",
    "    print(f\"  Sample: {', '.join(keywords[:3])}\")"
   ]
  },
  {
   "cell_type": "code",
   "execution_count": 23,
   "id": "82683a4a",
   "metadata": {},
   "outputs": [
    {
     "name": "stdout",
     "output_type": "stream",
     "text": [
      "🔍 CURRENT EVIDENCE QUALITY ANALYSIS:\n",
      "\n",
      "📏 EVIDENCE LENGTH ANALYSIS:\n",
      "  • Average length: 273 characters\n",
      "  • Median length: 280 characters\n",
      "  • Very short (< 100 chars): 0 entries\n",
      "  • Good length (100-500): 262 entries\n",
      "  • Very long (> 500): 0 entries\n",
      "\n",
      "📊 SOURCE TYPE EFFECTIVENESS:\n",
      "           evidence_length        EvidenceQuote\n",
      "                     count   mean      <lambda>\n",
      "SourceType                                     \n",
      "Website                262  273.3           262\n",
      "\n",
      "🎯 CONTENT QUALITY INDICATORS:\n",
      "  • Contains 'model': 2 entries (0.8%)\n",
      "  • Contains 'strategy': 0 entries (0.0%)\n",
      "  • Contains 'approach': 1 entries (0.4%)\n",
      "  • Contains 'methodology': 0 entries (0.0%)\n",
      "  • Contains 'process': 2 entries (0.8%)\n",
      "\n",
      "⚠️  SAMPLE SHORT/GENERIC EVIDENCE (needs improvement):\n",
      "\n",
      "✅ SAMPLE GOOD EVIDENCE (keep this quality):\n",
      "  1. \"ear replacing developers. AI helps by handling routine tasks, but the need for expertise isn’t going anywhere. The benefits depend on the situation – ...\"\n",
      "  2. \"uha@​rakettitiede.com Rakettitiede Oy Fredrikinkatu 40 A 2a 00100 Helsinki Vastaanotamme ainoastaan verkkolaskuja: Verkkolaskuosoite: 003723879679 Ope...\"\n"
     ]
    }
   ],
   "source": [
    "# ANALYZE CURRENT EVIDENCE QUALITY TO IDENTIFY IMPROVEMENTS NEEDED\n",
    "\n",
    "if df is not None:\n",
    "    print(\"🔍 CURRENT EVIDENCE QUALITY ANALYSIS:\")\n",
    "    \n",
    "    # 1. Evidence length distribution analysis\n",
    "    print(f\"\\n📏 EVIDENCE LENGTH ANALYSIS:\")\n",
    "    print(f\"  • Average length: {df['evidence_length'].mean():.0f} characters\")\n",
    "    print(f\"  • Median length: {df['evidence_length'].median():.0f} characters\")\n",
    "    print(f\"  • Very short (< 100 chars): {len(df[df['evidence_length'] < 100])} entries\")\n",
    "    print(f\"  • Good length (100-500): {len(df[(df['evidence_length'] >= 100) & (df['evidence_length'] <= 500)])} entries\")\n",
    "    print(f\"  • Very long (> 500): {len(df[df['evidence_length'] > 500])} entries\")\n",
    "    \n",
    "    # 2. Source type effectiveness\n",
    "    print(f\"\\n📊 SOURCE TYPE EFFECTIVENESS:\")\n",
    "    source_analysis = df.groupby('SourceType').agg({\n",
    "        'evidence_length': ['count', 'mean'],\n",
    "        'EvidenceQuote': lambda x: (x.str.len() > 100).sum()\n",
    "    }).round(1)\n",
    "    print(source_analysis)\n",
    "    \n",
    "    # 3. Content quality indicators\n",
    "    print(f\"\\n🎯 CONTENT QUALITY INDICATORS:\")\n",
    "    quality_keywords = ['model', 'strategy', 'approach', 'methodology', 'process']\n",
    "    \n",
    "    for keyword in quality_keywords:\n",
    "        count = df['EvidenceQuote'].str.lower().str.contains(keyword, na=False).sum()\n",
    "        percentage = (count / len(df)) * 100\n",
    "        print(f\"  • Contains '{keyword}': {count} entries ({percentage:.1f}%)\")\n",
    "    \n",
    "    # 4. Sample problematic evidence (too short or generic)\n",
    "    print(f\"\\n⚠️  SAMPLE SHORT/GENERIC EVIDENCE (needs improvement):\")\n",
    "    short_evidence = df[df['evidence_length'] < 100]['EvidenceQuote'].head(3)\n",
    "    for i, evidence in enumerate(short_evidence, 1):\n",
    "        print(f\"  {i}. \\\"{evidence}\\\"\")\n",
    "        \n",
    "    # 5. Sample good evidence (longer, more specific)\n",
    "    print(f\"\\n✅ SAMPLE GOOD EVIDENCE (keep this quality):\")\n",
    "    good_evidence = df[(df['evidence_length'] >= 200) & (df['evidence_length'] <= 400)]['EvidenceQuote'].head(2)\n",
    "    for i, evidence in enumerate(good_evidence, 1):\n",
    "        print(f\"  {i}. \\\"{evidence[:150]}...\\\"\")\n",
    "        \n",
    "else:\n",
    "    print(\"No data available for analysis\")"
   ]
  },
  {
   "cell_type": "markdown",
   "id": "2b380ebd",
   "metadata": {},
   "source": [
    "## 🚀 Actionable Pipeline Improvements\n",
    "\n",
    "### 1. **Enhance Search Targeting**\n",
    "- **Target specific page sections**: `/about/business-model`, `/services/approach`, `/solutions/methodology`\n",
    "- **Use advanced Google operators**: `inurl:pricing site:company.com`, `intitle:\"business model\" site:company.com`\n",
    "- **Add temporal queries**: \"revenue model 2024\", \"pricing strategy 2023\"\n",
    "\n",
    "### 2. **Improve Content Filtering**\n",
    "- **Filter by content length**: Aim for 150-400 character snippets\n",
    "- **Context-aware extraction**: Extract full sentences, not fragments\n",
    "- **Relevance scoring**: Rank snippets by business model keyword density\n",
    "\n",
    "### 3. **Expand Data Sources**\n",
    "- **Company blogs**: Often contain detailed business strategy discussions\n",
    "- **Case studies**: Rich source of implementation details\n",
    "- **Investor materials**: Annual reports, investor presentations\n",
    "- **Industry reports**: Mentions of company business models\n",
    "- **LinkedIn company pages**: Business strategy updates\n",
    "\n",
    "### 4. **Better Evidence Extraction**\n",
    "- **Semantic chunking**: Extract coherent paragraphs instead of random snippets\n",
    "- **Context preservation**: Include surrounding sentences for better understanding\n",
    "- **Quality scoring**: Rate evidence by specificity and relevance\n",
    "- **Deduplication**: Remove similar/duplicate evidence"
   ]
  },
  {
   "cell_type": "code",
   "execution_count": 24,
   "id": "f6c99819",
   "metadata": {},
   "outputs": [
    {
     "name": "stdout",
     "output_type": "stream",
     "text": [
      "❌ Error generating queries: [Errno 2] No such file or directory: '../companies.csv'\n",
      "💡 Make sure companies.csv exists with Company and Domain columns\n"
     ]
    }
   ],
   "source": [
    "# GENERATE IMPROVED SEARCH QUERIES FOR YOUR PIPELINE\n",
    "\n",
    "def generate_improved_queries(companies_df):\n",
    "    \"\"\"Generate enhanced search queries for better evidence collection\"\"\"\n",
    "    \n",
    "    # Read companies from your companies.csv if we need domains\n",
    "    try:\n",
    "        import pandas as pd\n",
    "        companies_path = '../companies.csv'\n",
    "        companies = pd.read_csv(companies_path)\n",
    "        \n",
    "        improved_queries = []\n",
    "        \n",
    "        for _, company in companies.iterrows():\n",
    "            company_name = company['Company']\n",
    "            domain = company.get('Domain', '')\n",
    "            \n",
    "            # Business model specific queries\n",
    "            base_queries = [\n",
    "                f'site:{domain} \"business model\"',\n",
    "                f'site:{domain} \"revenue model\"',\n",
    "                f'site:{domain} \"pricing strategy\"',\n",
    "                f'site:{domain} \"value proposition\"',\n",
    "                f'site:{domain} \"service delivery\"',\n",
    "                f'site:{domain} \"customer approach\"',\n",
    "                f'site:{domain} \"methodology\"',\n",
    "                f'site:{domain} \"competitive advantage\"',\n",
    "                f'site:{domain} inurl:about \"how we work\"',\n",
    "                f'site:{domain} inurl:services \"approach\"',\n",
    "                f'site:{domain} intitle:pricing',\n",
    "                f'\"{company_name}\" business model',\n",
    "                f'\"{company_name}\" revenue strategy',\n",
    "                f'\"{company_name}\" service approach'\n",
    "            ]\n",
    "            \n",
    "            for query in base_queries:\n",
    "                improved_queries.append({\n",
    "                    'Company': company_name,\n",
    "                    'Domain': domain,\n",
    "                    'Query': query,\n",
    "                    'Category': 'Business Model'\n",
    "                })\n",
    "        \n",
    "        # Convert to DataFrame for easy export\n",
    "        queries_df = pd.DataFrame(improved_queries)\n",
    "        \n",
    "        # Save to CSV for use in pipeline\n",
    "        output_file = '../improved_search_queries.csv'\n",
    "        queries_df.to_csv(output_file, index=False)\n",
    "        \n",
    "        print(f\"✅ Generated {len(improved_queries)} improved search queries\")\n",
    "        print(f\"📁 Saved to: {output_file}\")\n",
    "        print(f\"\\n📊 Sample queries:\")\n",
    "        print(queries_df.head(10))\n",
    "        \n",
    "        return queries_df\n",
    "        \n",
    "    except Exception as e:\n",
    "        print(f\"❌ Error generating queries: {e}\")\n",
    "        print(\"💡 Make sure companies.csv exists with Company and Domain columns\")\n",
    "        return None\n",
    "\n",
    "# Generate the improved queries\n",
    "improved_queries_df = generate_improved_queries(df)"
   ]
  },
  {
   "cell_type": "markdown",
   "id": "a49c360a",
   "metadata": {},
   "source": [
    "# Software Business Model Study - Pipeline Analysis\n",
    "\n",
    "This notebook analyzes the data collected by the auto-research pipeline to identify new business models in SMB software companies."
   ]
  },
  {
   "cell_type": "markdown",
   "id": "c4f70130",
   "metadata": {},
   "source": [
    "## 1. Import Libraries"
   ]
  },
  {
   "cell_type": "code",
   "execution_count": 10,
   "id": "86a0bc4e",
   "metadata": {},
   "outputs": [],
   "source": [
    "import pandas as pd\n",
    "import matplotlib.pyplot as plt\n",
    "import seaborn as sns\n",
    "from collections import Counter\n",
    "import os\n",
    "import sys\n",
    "\n",
    "# Add parent directory to path so we can import pipeline package\n",
    "sys.path.append('..')\n",
    "from pipeline.merge_evidence import merge_evidence_csvs\n",
    "\n",
    "plt.style.use('default')\n",
    "plt.rcParams['figure.figsize'] = (10, 6)"
   ]
  },
  {
   "cell_type": "markdown",
   "id": "6581cee1",
   "metadata": {},
   "source": [
    "## 2. Merge and Load Data"
   ]
  },
  {
   "cell_type": "code",
   "execution_count": 15,
   "id": "99e6eef7",
   "metadata": {},
   "outputs": [
    {
     "name": "stdout",
     "output_type": "stream",
     "text": [
      "Found 6 evidence files:\n",
      "  - Anders_Innovations_evidence.csv\n",
      "  - Codemate_evidence.csv\n",
      "  - Haltu_evidence.csv\n",
      "  - Rakettitiede_evidence.csv\n",
      "  - Sofokus_evidence.csv\n",
      "  - Sysart_evidence.csv\n",
      "\n",
      "Master dataset created: ../out/master_evidence.csv\n",
      "Total evidence rows: 262\n",
      "Companies: 2\n",
      "Non-empty evidence quotes: 262\n",
      "\n",
      "Dataset loaded successfully!\n",
      "Shape: (262, 23)\n",
      "Columns: ['Company', 'Country', 'Website', 'SourceType', 'SourceTitle', 'SourceURL', 'SourceDate', 'EvidenceQuote', 'ModelCategory', 'RevenueMix', 'PricingModel', 'ProductizationLevel', 'RiskSharingLevel', 'DeliveryModel', 'IP_OSS_Strategy', 'Differentiators', 'HardToCopyFactors', 'ValueMechanisms', 'CustomerSegments', 'Geographies', 'EvidenceStrength', 'AnalystConfidence', 'Notes']\n"
     ]
    }
   ],
   "source": [
    "# First, merge all individual company CSV files\n",
    "df = merge_evidence_csvs()\n",
    "\n",
    "if df is not None:\n",
    "    print(f\"\\nDataset loaded successfully!\")\n",
    "    print(f\"Shape: {df.shape}\")\n",
    "    print(f\"Columns: {list(df.columns)}\")\n",
    "else:\n",
    "    print(\"No data found. Make sure you've run the pipeline first.\")"
   ]
  },
  {
   "cell_type": "markdown",
   "id": "145f912e",
   "metadata": {},
   "source": [
    "## 3. Basic Data Overview"
   ]
  },
  {
   "cell_type": "code",
   "execution_count": 12,
   "id": "0ced19af",
   "metadata": {},
   "outputs": [
    {
     "name": "stdout",
     "output_type": "stream",
     "text": [
      "=== BASIC STATISTICS ===\n",
      "Total companies: 2\n",
      "Total search attempts: 262\n",
      "Evidence found: 262\n",
      "Success rate: 100.0%\n",
      "\n",
      "=== COMPANIES ANALYZED ===\n",
      "Company\n",
      "Rakettitiede    154\n",
      "Sysart          108\n",
      "Name: count, dtype: int64\n"
     ]
    }
   ],
   "source": [
    "if df is not None:\n",
    "    # Basic statistics\n",
    "    print(\"=== BASIC STATISTICS ===\")\n",
    "    print(f\"Total companies: {df['Company'].nunique()}\")\n",
    "    print(f\"Total search attempts: {len(df)}\")\n",
    "    print(f\"Evidence found: {len(df[df['EvidenceQuote'].str.strip() != ''])}\")\n",
    "    print(f\"Success rate: {len(df[df['EvidenceQuote'].str.strip() != '']) / len(df):.1%}\")\n",
    "    \n",
    "    print(\"\\n=== COMPANIES ANALYZED ===\")\n",
    "    print(df['Company'].value_counts())"
   ]
  },
  {
   "cell_type": "markdown",
   "id": "d1738a3d",
   "metadata": {},
   "source": [
    "## 4. Evidence Quality Analysis"
   ]
  },
  {
   "cell_type": "code",
   "execution_count": 17,
   "id": "a05d6854",
   "metadata": {},
   "outputs": [
    {
     "name": "stdout",
     "output_type": "stream",
     "text": [
      "=== COMPANY PERFORMANCE ===\n",
      "              Evidence_Found  Total_Searches  Success_Rate  Total_Text\n",
      "Company                                                               \n",
      "Rakettitiede             154             154           1.0       42934\n",
      "Sysart                   108             108           1.0       28679\n"
     ]
    }
   ],
   "source": [
    "if df is not None:\n",
    "    # Add evidence quality columns\n",
    "    df['has_evidence'] = df['EvidenceQuote'].str.strip() != ''\n",
    "    df['evidence_length'] = df['EvidenceQuote'].str.len()\n",
    "    \n",
    "    # Company-level success rates\n",
    "    company_stats = df.groupby('Company').agg({\n",
    "        'has_evidence': ['sum', 'count', 'mean'],\n",
    "        'evidence_length': 'sum'\n",
    "    }).round(2)\n",
    "    \n",
    "    company_stats.columns = ['Evidence_Found', 'Total_Searches', 'Success_Rate', 'Total_Text']\n",
    "    company_stats = company_stats.sort_values('Evidence_Found', ascending=False)\n",
    "    \n",
    "    print(\"=== COMPANY PERFORMANCE ===\")\n",
    "    print(company_stats)"
   ]
  },
  {
   "cell_type": "markdown",
   "id": "4a5cb50a",
   "metadata": {},
   "source": [
    "## 5. Simple Visualizations"
   ]
  },
  {
   "cell_type": "code",
   "execution_count": 18,
   "id": "03e04edc",
   "metadata": {},
   "outputs": [
    {
     "data": {
      "image/png": "[encoded data removed]",
      "text/plain": [
       "<Figure size 1500x1000 with 4 Axes>"
      ]
     },
     "metadata": {},
     "output_type": "display_data"
    }
   ],
   "source": [
    "if df is not None:\n",
    "    # Create simple charts\n",
    "    fig, axes = plt.subplots(2, 2, figsize=(15, 10))\n",
    "    \n",
    "    # 1. Evidence found by company\n",
    "    company_stats['Evidence_Found'].plot(kind='bar', ax=axes[0,0])\n",
    "    axes[0,0].set_title('Evidence Found by Company')\n",
    "    axes[0,0].set_ylabel('Number of Evidence Quotes')\n",
    "    \n",
    "    # 2. Success rate by company\n",
    "    company_stats['Success_Rate'].plot(kind='bar', ax=axes[0,1], color='orange')\n",
    "    axes[0,1].set_title('Success Rate by Company')\n",
    "    axes[0,1].set_ylabel('Success Rate')\n",
    "    \n",
    "    # 3. Source type effectiveness\n",
    "    source_stats = df.groupby('SourceType')['has_evidence'].agg(['count', 'mean']).sort_values('mean', ascending=False).head(10)\n",
    "    source_stats['mean'].plot(kind='barh', ax=axes[1,0], color='green')\n",
    "    axes[1,0].set_title('Top 10 Most Effective Source Types')\n",
    "    axes[1,0].set_xlabel('Success Rate')\n",
    "    \n",
    "    # 4. Evidence text length distribution\n",
    "    evidence_data = df[df['has_evidence']]['evidence_length']\n",
    "    axes[1,1].hist(evidence_data, bins=20, alpha=0.7, color='purple')\n",
    "    axes[1,1].set_title('Evidence Text Length Distribution')\n",
    "    axes[1,1].set_xlabel('Characters')\n",
    "    axes[1,1].set_ylabel('Frequency')\n",
    "    \n",
    "    plt.tight_layout()\n",
    "    plt.show()"
   ]
  },
  {
   "cell_type": "markdown",
   "id": "5abde5ed",
   "metadata": {},
   "source": [
    "## 6. Business Model Detection"
   ]
  },
  {
   "cell_type": "code",
   "execution_count": 19,
   "id": "d30c4c55",
   "metadata": {},
   "outputs": [
    {
     "name": "stdout",
     "output_type": "stream",
     "text": [
      "=== BUSINESS MODEL MENTIONS ===\n",
      "AI/ML: 208 mentions\n",
      "Platform: 75 mentions\n",
      "SaaS: 13 mentions\n",
      "Consulting: 12 mentions\n",
      "Open Source: 2 mentions\n"
     ]
    },
    {
     "data": {
      "image/png": "[encoded data removed]",
      "text/plain": [
       "<Figure size 1000x600 with 1 Axes>"
      ]
     },
     "metadata": {},
     "output_type": "display_data"
    }
   ],
   "source": [
    "if df is not None:\n",
    "    # Simple business model keywords\n",
    "    business_models = {\n",
    "        'SaaS': ['saas', 'subscription', 'monthly', 'cloud'],\n",
    "        'Platform': ['platform', 'marketplace', 'api'],\n",
    "        'Consulting': ['consulting', 'custom', 'implementation'],\n",
    "        'Open Source': ['open source', 'github', 'community'],\n",
    "        'AI/ML': ['ai', 'machine learning', 'artificial intelligence']\n",
    "    }\n",
    "    \n",
    "    # Count mentions of each business model\n",
    "    model_counts = {}\n",
    "    evidence_text = ' '.join(df[df['has_evidence']]['EvidenceQuote'].str.lower())\n",
    "    \n",
    "    for model, keywords in business_models.items():\n",
    "        count = sum(evidence_text.count(keyword) for keyword in keywords)\n",
    "        model_counts[model] = count\n",
    "    \n",
    "    print(\"=== BUSINESS MODEL MENTIONS ===\")\n",
    "    for model, count in sorted(model_counts.items(), key=lambda x: x[1], reverse=True):\n",
    "        print(f\"{model}: {count} mentions\")\n",
    "    \n",
    "    # Simple bar chart\n",
    "    plt.figure(figsize=(10, 6))\n",
    "    models = list(model_counts.keys())\n",
    "    counts = list(model_counts.values())\n",
    "    plt.bar(models, counts, color=['skyblue', 'lightgreen', 'salmon', 'gold', 'plum'])\n",
    "    plt.title('Business Model Keyword Mentions in Evidence')\n",
    "    plt.ylabel('Number of Mentions')\n",
    "    plt.xticks(rotation=45)\n",
    "    plt.tight_layout()\n",
    "    plt.show()"
   ]
  },
  {
   "cell_type": "markdown",
   "id": "e5843b82",
   "metadata": {},
   "source": [
    "## 7. Sample Evidence Review"
   ]
  },
  {
   "cell_type": "code",
   "execution_count": 20,
   "id": "f4e6f436",
   "metadata": {},
   "outputs": [
    {
     "name": "stdout",
     "output_type": "stream",
     "text": [
      "=== SAMPLE EVIDENCE QUOTES ===\n",
      "\n",
      "Company: Rakettitiede\n",
      "Source Type: Website\n",
      "Source Title: Services | Rakettitiede\n",
      "Evidence: ear replacing developers. AI helps by handling routine tasks, but the need for expertise isn’t going anywhere. The benefits depend on the situation – sometimes productivity improves by 10%, sometimes ...\n",
      "--------------------------------------------------------------------------------\n",
      "\n",
      "Company: Rakettitiede\n",
      "Source Type: Website\n",
      "Source Title: Services | Rakettitiede\n",
      "Evidence: uha@​rakettitiede.com Rakettitiede Oy Fredrikinkatu 40 A 2a 00100 Helsinki Vastaanotamme ainoastaan verkkolaskuja: Verkkolaskuosoite: 003723879679 Operaattori: Apix Messaging Oy, 003723327487 Tietosuo...\n",
      "--------------------------------------------------------------------------------\n",
      "\n",
      "Company: Rakettitiede\n",
      "Source Type: Website\n",
      "Source Title: Services | Rakettitiede\n",
      "Evidence: nd front end technologies. Read more Mobile Building demanding mobile software requires experienced developers. We develop mobile applications for the client’s platform of choice — even for a C64. Rea...\n",
      "--------------------------------------------------------------------------------\n",
      "\n",
      "Company: Rakettitiede\n",
      "Source Type: Website\n",
      "Source Title: Full stack - Services | Rakettitiede\n",
      "Evidence: ys.” Petteri Niemi, Chief Operating Officer, 02 Taksi “Rocket Scientists have the courage to speak up and know when to ask questions.” Teemu Saukonoja, Head of Product, GameRefinery “The project was t...\n",
      "--------------------------------------------------------------------------------\n",
      "\n",
      "Company: Rakettitiede\n",
      "Source Type: Website\n",
      "Source Title: Full stack - Services | Rakettitiede\n",
      "Evidence: uha@​rakettitiede.com Rakettitiede Oy Fredrikinkatu 40 A 2a 00100 Helsinki Vastaanotamme ainoastaan verkkolaskuja: Verkkolaskuosoite: 003723879679 Operaattori: Apix Messaging Oy, 003723327487 Tietosuo...\n",
      "--------------------------------------------------------------------------------\n"
     ]
    }
   ],
   "source": [
    "if df is not None:\n",
    "    # Show some example evidence quotes\n",
    "    evidence_df = df[df['has_evidence']].copy()\n",
    "    \n",
    "    if len(evidence_df) > 0:\n",
    "        print(\"=== SAMPLE EVIDENCE QUOTES ===\")\n",
    "        for i, row in evidence_df.head(5).iterrows():\n",
    "            print(f\"\\nCompany: {row['Company']}\")\n",
    "            print(f\"Source Type: {row['SourceType']}\")\n",
    "            print(f\"Source Title: {row['SourceTitle']}\")\n",
    "            print(f\"Evidence: {row['EvidenceQuote'][:200]}...\")\n",
    "            print(\"-\" * 80)\n",
    "    else:\n",
    "        print(\"No evidence quotes found.\")"
   ]
  },
  {
   "cell_type": "markdown",
   "id": "33485fe3",
   "metadata": {},
   "source": [
    "## 8. Export Summary Results"
   ]
  },
  {
   "cell_type": "code",
   "execution_count": 21,
   "id": "755b565a",
   "metadata": {},
   "outputs": [
    {
     "name": "stdout",
     "output_type": "stream",
     "text": [
      "Results saved to:\n",
      "- ../out/analysis_summary.csv\n",
      "- ../out/business_model_analysis.csv\n",
      "\n",
      "=== ANALYSIS COMPLETE ===\n",
      "Check the '../out/' directory for detailed results!\n"
     ]
    }
   ],
   "source": [
    "if df is not None:\n",
    "    # Save summary to CSV\n",
    "    summary_file = '../out/analysis_summary.csv'\n",
    "    company_stats.to_csv(summary_file)\n",
    "    \n",
    "    # Save business model analysis\n",
    "    model_df = pd.DataFrame(list(model_counts.items()), columns=['Business_Model', 'Mentions'])\n",
    "    model_df.to_csv('../out/business_model_analysis.csv', index=False)\n",
    "    \n",
    "    print(f\"Results saved to:\")\n",
    "    print(f\"- {summary_file}\")\n",
    "    print(f\"- ../out/business_model_analysis.csv\")\n",
    "    \n",
    "    print(\"\\n=== ANALYSIS COMPLETE ===\")\n",
    "    print(f\"Check the '../out/' directory for detailed results!\")"
   ]
  }
 ],
 "metadata": {
  "kernelspec": {
   "display_name": "Python (daily_coding_routine-env)",
   "language": "python",
   "name": "daily_coding_routine-env"
  },
  "language_info": {
   "codemirror_mode": {
    "name": "ipython",
    "version": 3
   },
   "file_extension": ".py",
   "mimetype": "text/x-python",
   "name": "python",
   "nbconvert_exporter": "python",
   "pygments_lexer": "ipython3",
   "version": "3.8.12"
  }
 },
 "nbformat": 4,
 "nbformat_minor": 5
}
